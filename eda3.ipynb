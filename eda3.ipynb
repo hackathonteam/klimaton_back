{
 "cells": [
  {
   "cell_type": "markdown",
   "id": "522300d0",
   "metadata": {},
   "source": [
    "# Main EDA notebook"
   ]
  },
  {
   "cell_type": "code",
   "execution_count": 50,
   "id": "c5a82a4d",
   "metadata": {},
   "outputs": [],
   "source": [
    "import pandas as pd\n",
    "import numpy as np\n",
    "import matplotlib.pyplot as plt\n",
    "import seaborn as sns\n",
    "\n",
    "pd.options.mode.chained_assignment = None  "
   ]
  },
  {
   "cell_type": "code",
   "execution_count": 51,
   "id": "a3c47086",
   "metadata": {},
   "outputs": [],
   "source": [
    "# Notes\n",
    "# tables dealt with: 1, 2, 3, 4, 5, 6\n",
    "#  7 by nr zbiornika TBD"
   ]
  },
  {
   "cell_type": "code",
   "execution_count": 52,
   "id": "f236068f",
   "metadata": {},
   "outputs": [],
   "source": [
    "zuzycie01_raw = pd.read_excel(\"data/01zuzycie.xlsx\")\n",
    "zbiorniki02_raw = pd.read_excel(\"data/02zbiorniki.xlsx\")\n",
    "liczniki03_raw = pd.read_excel(\"data/03liczniki.xlsx\")\n",
    "firmy04_raw = pd.read_excel(\"data/04firmy.xlsx\")\n",
    "osoby05_raw = pd.read_excel(\"data/05osoby.xlsx\")\n",
    "deklarowane06_raw = pd.read_excel(\"data/06deklarowane.xlsx\")"
   ]
  },
  {
   "cell_type": "code",
   "execution_count": 53,
   "id": "3ebef344",
   "metadata": {},
   "outputs": [],
   "source": [
    "# zmiana nazw kolumn\n",
    "zuzycie01 = zuzycie01_raw.drop(['Lp.'], axis = 1)\n",
    "c = zuzycie01.columns\n",
    "zuzycie01 = zuzycie01.rename(columns = {c[0]: 'nr_licznika',\n",
    "                                        c[1]: 'osoba',\n",
    "                                        c[2]: 'adres_licznika',\n",
    "                                        c[3]: 'zuzycie_wody',\n",
    "                                        c[4]: 'srednie_zuzucie_wody'})\n",
    "for i in range(5, len(c)):\n",
    "    zuzycie01.rename(columns = {c[i]: str(i)})\n",
    "\n",
    "                     \n",
    "zbiorniki02 = zbiorniki02_raw.drop(['Lp.'], axis = 1)\n",
    "c = zbiorniki02.columns\n",
    "zbiorniki02 = zbiorniki02.rename(columns = {c[0]: 'nr_zbiornika',\n",
    "                              c[1]: 'osoba',\n",
    "                              c[2]: 'adres_licznika',\n",
    "                              c[3]: 'adres_zamieszkania'})\n",
    "\n",
    "liczniki03 = liczniki03_raw.drop(['Lp.'], axis = 1)\n",
    "c = liczniki03.columns\n",
    "liczniki03 = liczniki03.rename(columns = {c[0]: 'nr_licznika',\n",
    "                                          c[1]: 'osoba',\n",
    "                                          c[2]: 'adres_licznika',\n",
    "                                          c[3]: 'adres_zamieszkania'})\n",
    "\n",
    "firmy04 = firmy04_raw.drop(['Lp.'], axis = 1)\n",
    "c = firmy04.columns\n",
    "firmy04 = firmy04.rename(columns = {c[0]: 'nr_koncesji',\n",
    "                              c[1]: 'nazwa_firmy',\n",
    "                              c[2]: 'adres_firmy',\n",
    "                              c[3]: 'nr_pojazdu',\n",
    "                              c[4]: 'pojemnosc_pojazdu'})\n",
    "\n",
    "osoby05 = osoby05_raw.drop(['Lp.'], axis = 1)\n",
    "c = osoby05.columns\n",
    "osoby05 = osoby05.rename(columns = {c[0]: 'nr_zbiornika',\n",
    "                              c[1]: 'adres_licznika',\n",
    "                              c[2]: 'liczba_osob_zameldowanych',\n",
    "                              c[3]: 'liczba_osob_smieci'})\n",
    "\n",
    "deklarowane06 = deklarowane06_raw.drop(['Lp.'], axis = 1)\n",
    "c = deklarowane06.columns\n",
    "deklarowane06 = deklarowane06.rename(columns = {c[0]: 'nr_zbiornika',\n",
    "                                                c[1]: 'adres_licznika',\n",
    "                                                c[2]: 'data_odbioru',\n",
    "                                                c[3]: 'deklaracja_mieszkaniec',\n",
    "                                                c[4]: 'deklaracja_firma',\n",
    "                                                c[5]: 'pobrana_woda',\n",
    "                                                c[6]: 'pobrana_woda_ogrodowa',\n",
    "                                                c[7]: 'nr_pojazdu'})\n"
   ]
  },
  {
   "cell_type": "code",
   "execution_count": 54,
   "id": "871cbb52",
   "metadata": {},
   "outputs": [],
   "source": [
    "# wyliczenie liczby osób jako średniej z zameldowanych i bazy śmieciowej\n",
    "# i wyrzucenie tych kolumn\n",
    "osoby05['liczba_osob'] = (osoby05['liczba_osob_zameldowanych'] + osoby05['liczba_osob_smieci'])/2\n",
    "osoby05 = osoby05.drop(['liczba_osob_zameldowanych', 'liczba_osob_smieci'], axis = 1)\n",
    "\n",
    "# czyszczenie deklarowanych\n",
    "deklarowane06 = deklarowane06.drop(['pobrana_woda_ogrodowa'], axis = 1)"
   ]
  },
  {
   "cell_type": "code",
   "execution_count": 55,
   "id": "dbf8d3de",
   "metadata": {},
   "outputs": [],
   "source": [
    "# Łączenie tabel i usuwanie niepotrzebnych kolumn\n",
    "\n",
    "liczniki_zbiorniki = zbiorniki02.set_index(['adres_licznika', 'osoba', 'adres_zamieszkania'])\\\n",
    "                    .join(liczniki03.set_index(['adres_licznika', 'osoba', 'adres_zamieszkania']))\\\n",
    "                    .reset_index()\n",
    "\n",
    "# drop kolumn adres zamieszkania skoro wszedzie jest taki sam jak adres licznika\n",
    "liczniki_zbiorniki = liczniki_zbiorniki.drop('adres_zamieszkania', axis = 1)\n",
    "\n",
    "\n",
    "liczniki_z_osobami = liczniki_zbiorniki.set_index(['adres_licznika', 'nr_zbiornika'])\\\n",
    "                    .join(osoby05.set_index(['adres_licznika', 'nr_zbiornika']))\\\n",
    "                    .reset_index()\n",
    "\n",
    "licz_os_deklaracje = liczniki_z_osobami.set_index(['adres_licznika', 'nr_zbiornika'])\\\n",
    "                    .join(deklarowane06.set_index(['adres_licznika', 'nr_zbiornika']))\\\n",
    "                    .reset_index()\n",
    "\n",
    "licz_os_dekl_pojaz = licz_os_deklaracje.set_index(['nr_pojazdu'])\\\n",
    "                    .join(firmy04.set_index(['nr_pojazdu']))\\\n",
    "                    .reset_index()\n",
    "\n",
    "dane_koncowe = licz_os_dekl_pojaz.set_index(['nr_licznika', 'osoba', 'adres_licznika'])\\\n",
    "                    .join(zuzycie01.set_index(['nr_licznika', 'osoba', 'adres_licznika']))\\\n",
    "                    .reset_index()"
   ]
  },
  {
   "cell_type": "code",
   "execution_count": 56,
   "id": "6d556fd6",
   "metadata": {},
   "outputs": [
    {
     "data": {
      "text/plain": [
       "Index(['nr_pojazdu', 'adres_licznika', 'nr_zbiornika', 'osoba', 'nr_licznika',\n",
       "       'liczba_osob', 'data_odbioru', 'deklaracja_mieszkaniec',\n",
       "       'deklaracja_firma', 'pobrana_woda', 'nr_koncesji', 'nazwa_firmy',\n",
       "       'adres_firmy', 'pojemnosc_pojazdu'],\n",
       "      dtype='object')"
      ]
     },
     "execution_count": 56,
     "metadata": {},
     "output_type": "execute_result"
    }
   ],
   "source": [
    "licz_os_dekl_pojaz.columns"
   ]
  },
  {
   "cell_type": "code",
   "execution_count": 57,
   "id": "a14d4f5b",
   "metadata": {},
   "outputs": [],
   "source": [
    "# drop some usless columns\n",
    "df = licz_os_dekl_pojaz.drop(['adres_licznika', 'osoba', \n",
    "                              'nr_licznika', 'nr_koncesji', \n",
    "                              'nazwa_firmy', 'adres_firmy',\n",
    "                              'data_odbioru'], axis = 1)"
   ]
  },
  {
   "cell_type": "code",
   "execution_count": 58,
   "id": "87d6587a",
   "metadata": {},
   "outputs": [],
   "source": [
    "df['pobrana_woda'] = dane_koncowe['srednie_zuzucie_wody']"
   ]
  },
  {
   "cell_type": "code",
   "execution_count": 59,
   "id": "18803717",
   "metadata": {},
   "outputs": [
    {
     "data": {
      "text/html": [
       "<div>\n",
       "<style scoped>\n",
       "    .dataframe tbody tr th:only-of-type {\n",
       "        vertical-align: middle;\n",
       "    }\n",
       "\n",
       "    .dataframe tbody tr th {\n",
       "        vertical-align: top;\n",
       "    }\n",
       "\n",
       "    .dataframe thead th {\n",
       "        text-align: right;\n",
       "    }\n",
       "</style>\n",
       "<table border=\"1\" class=\"dataframe\">\n",
       "  <thead>\n",
       "    <tr style=\"text-align: right;\">\n",
       "      <th></th>\n",
       "      <th>nr_pojazdu</th>\n",
       "      <th>nr_zbiornika</th>\n",
       "      <th>liczba_osob</th>\n",
       "      <th>deklaracja_mieszkaniec</th>\n",
       "      <th>deklaracja_firma</th>\n",
       "      <th>pobrana_woda</th>\n",
       "      <th>pojemnosc_pojazdu</th>\n",
       "    </tr>\n",
       "  </thead>\n",
       "  <tbody>\n",
       "    <tr>\n",
       "      <th>0</th>\n",
       "      <td>PGN 415KA</td>\n",
       "      <td>Z00045</td>\n",
       "      <td>3.5</td>\n",
       "      <td>4.0</td>\n",
       "      <td>4.0</td>\n",
       "      <td>10.428971</td>\n",
       "      <td>18.0</td>\n",
       "    </tr>\n",
       "    <tr>\n",
       "      <th>1</th>\n",
       "      <td>PGN 415KA</td>\n",
       "      <td>Z00089</td>\n",
       "      <td>5.5</td>\n",
       "      <td>15.0</td>\n",
       "      <td>14.0</td>\n",
       "      <td>20.712486</td>\n",
       "      <td>18.0</td>\n",
       "    </tr>\n",
       "    <tr>\n",
       "      <th>2</th>\n",
       "      <td>PGN 415KA</td>\n",
       "      <td>Z00165</td>\n",
       "      <td>4.0</td>\n",
       "      <td>9.0</td>\n",
       "      <td>9.0</td>\n",
       "      <td>10.142857</td>\n",
       "      <td>18.0</td>\n",
       "    </tr>\n",
       "    <tr>\n",
       "      <th>3</th>\n",
       "      <td>PGN 415KA</td>\n",
       "      <td>Z00367</td>\n",
       "      <td>3.0</td>\n",
       "      <td>10.0</td>\n",
       "      <td>9.0</td>\n",
       "      <td>9.078114</td>\n",
       "      <td>18.0</td>\n",
       "    </tr>\n",
       "    <tr>\n",
       "      <th>4</th>\n",
       "      <td>PGN 415KA</td>\n",
       "      <td>Z00465</td>\n",
       "      <td>5.0</td>\n",
       "      <td>10.0</td>\n",
       "      <td>9.0</td>\n",
       "      <td>15.371429</td>\n",
       "      <td>18.0</td>\n",
       "    </tr>\n",
       "  </tbody>\n",
       "</table>\n",
       "</div>"
      ],
      "text/plain": [
       "  nr_pojazdu nr_zbiornika  liczba_osob  deklaracja_mieszkaniec  \\\n",
       "0  PGN 415KA       Z00045          3.5                     4.0   \n",
       "1  PGN 415KA       Z00089          5.5                    15.0   \n",
       "2  PGN 415KA       Z00165          4.0                     9.0   \n",
       "3  PGN 415KA       Z00367          3.0                    10.0   \n",
       "4  PGN 415KA       Z00465          5.0                    10.0   \n",
       "\n",
       "   deklaracja_firma  pobrana_woda  pojemnosc_pojazdu  \n",
       "0               4.0     10.428971               18.0  \n",
       "1              14.0     20.712486               18.0  \n",
       "2               9.0     10.142857               18.0  \n",
       "3               9.0      9.078114               18.0  \n",
       "4               9.0     15.371429               18.0  "
      ]
     },
     "execution_count": 59,
     "metadata": {},
     "output_type": "execute_result"
    }
   ],
   "source": [
    "df.head()"
   ]
  },
  {
   "cell_type": "markdown",
   "id": "f7f7814f",
   "metadata": {},
   "source": [
    "# Analiza bez miesięcznych pobrań i numerów zbiorników"
   ]
  },
  {
   "cell_type": "code",
   "execution_count": 60,
   "id": "46544bf3",
   "metadata": {},
   "outputs": [],
   "source": [
    "# drop that is controversial - experimental\n",
    "df_bez_zbiornikow = df.drop(['nr_zbiornika'], axis = 1)"
   ]
  },
  {
   "cell_type": "code",
   "execution_count": 61,
   "id": "5a0f9a83",
   "metadata": {},
   "outputs": [
    {
     "data": {
      "text/html": [
       "<div>\n",
       "<style scoped>\n",
       "    .dataframe tbody tr th:only-of-type {\n",
       "        vertical-align: middle;\n",
       "    }\n",
       "\n",
       "    .dataframe tbody tr th {\n",
       "        vertical-align: top;\n",
       "    }\n",
       "\n",
       "    .dataframe thead th {\n",
       "        text-align: right;\n",
       "    }\n",
       "</style>\n",
       "<table border=\"1\" class=\"dataframe\">\n",
       "  <thead>\n",
       "    <tr style=\"text-align: right;\">\n",
       "      <th></th>\n",
       "      <th>nr_pojazdu</th>\n",
       "      <th>liczba_osob</th>\n",
       "      <th>deklaracja_mieszkaniec</th>\n",
       "      <th>deklaracja_firma</th>\n",
       "      <th>pobrana_woda</th>\n",
       "      <th>pojemnosc_pojazdu</th>\n",
       "    </tr>\n",
       "  </thead>\n",
       "  <tbody>\n",
       "    <tr>\n",
       "      <th>0</th>\n",
       "      <td>PGN 415KA</td>\n",
       "      <td>3.5</td>\n",
       "      <td>4.0</td>\n",
       "      <td>4.0</td>\n",
       "      <td>10.428971</td>\n",
       "      <td>18.0</td>\n",
       "    </tr>\n",
       "    <tr>\n",
       "      <th>1</th>\n",
       "      <td>PGN 415KA</td>\n",
       "      <td>5.5</td>\n",
       "      <td>15.0</td>\n",
       "      <td>14.0</td>\n",
       "      <td>20.712486</td>\n",
       "      <td>18.0</td>\n",
       "    </tr>\n",
       "    <tr>\n",
       "      <th>2</th>\n",
       "      <td>PGN 415KA</td>\n",
       "      <td>4.0</td>\n",
       "      <td>9.0</td>\n",
       "      <td>9.0</td>\n",
       "      <td>10.142857</td>\n",
       "      <td>18.0</td>\n",
       "    </tr>\n",
       "    <tr>\n",
       "      <th>3</th>\n",
       "      <td>PGN 415KA</td>\n",
       "      <td>3.0</td>\n",
       "      <td>10.0</td>\n",
       "      <td>9.0</td>\n",
       "      <td>9.078114</td>\n",
       "      <td>18.0</td>\n",
       "    </tr>\n",
       "    <tr>\n",
       "      <th>4</th>\n",
       "      <td>PGN 415KA</td>\n",
       "      <td>5.0</td>\n",
       "      <td>10.0</td>\n",
       "      <td>9.0</td>\n",
       "      <td>15.371429</td>\n",
       "      <td>18.0</td>\n",
       "    </tr>\n",
       "  </tbody>\n",
       "</table>\n",
       "</div>"
      ],
      "text/plain": [
       "  nr_pojazdu  liczba_osob  deklaracja_mieszkaniec  deklaracja_firma  \\\n",
       "0  PGN 415KA          3.5                     4.0               4.0   \n",
       "1  PGN 415KA          5.5                    15.0              14.0   \n",
       "2  PGN 415KA          4.0                     9.0               9.0   \n",
       "3  PGN 415KA          3.0                    10.0               9.0   \n",
       "4  PGN 415KA          5.0                    10.0               9.0   \n",
       "\n",
       "   pobrana_woda  pojemnosc_pojazdu  \n",
       "0     10.428971               18.0  \n",
       "1     20.712486               18.0  \n",
       "2     10.142857               18.0  \n",
       "3      9.078114               18.0  \n",
       "4     15.371429               18.0  "
      ]
     },
     "execution_count": 61,
     "metadata": {},
     "output_type": "execute_result"
    }
   ],
   "source": [
    "df_bez_zbiornikow.head()"
   ]
  },
  {
   "cell_type": "code",
   "execution_count": 62,
   "id": "4a3cf258",
   "metadata": {},
   "outputs": [],
   "source": [
    "df_bez_zbiornikow['st_oddanej_do_pobranej'] = (df_bez_zbiornikow['deklaracja_mieszkaniec'] + \n",
    "                                                df_bez_zbiornikow['deklaracja_firma'])/2 / \\\n",
    "                                                df_bez_zbiornikow['pobrana_woda']"
   ]
  },
  {
   "cell_type": "code",
   "execution_count": 63,
   "id": "e775929f",
   "metadata": {},
   "outputs": [],
   "source": [
    "df_bez_zbiornikow['deficyt_litrow'] = df_bez_zbiornikow['pobrana_woda'] - \\\n",
    "                                    (df_bez_zbiornikow['deklaracja_mieszkaniec'] + \\\n",
    "                                    df_bez_zbiornikow['deklaracja_firma'])/2 \n",
    "                                                "
   ]
  },
  {
   "cell_type": "code",
   "execution_count": 64,
   "id": "7eedbfcf",
   "metadata": {},
   "outputs": [],
   "source": [
    "# get dummy variables for licz_os_dekl\n",
    "df_bez_zbiornikow = pd.get_dummies(df_bez_zbiornikow)"
   ]
  },
  {
   "cell_type": "code",
   "execution_count": 65,
   "id": "8fac9726",
   "metadata": {},
   "outputs": [
    {
     "data": {
      "text/html": [
       "<div>\n",
       "<style scoped>\n",
       "    .dataframe tbody tr th:only-of-type {\n",
       "        vertical-align: middle;\n",
       "    }\n",
       "\n",
       "    .dataframe tbody tr th {\n",
       "        vertical-align: top;\n",
       "    }\n",
       "\n",
       "    .dataframe thead th {\n",
       "        text-align: right;\n",
       "    }\n",
       "</style>\n",
       "<table border=\"1\" class=\"dataframe\">\n",
       "  <thead>\n",
       "    <tr style=\"text-align: right;\">\n",
       "      <th></th>\n",
       "      <th>liczba_osob</th>\n",
       "      <th>deklaracja_mieszkaniec</th>\n",
       "      <th>deklaracja_firma</th>\n",
       "      <th>pobrana_woda</th>\n",
       "      <th>pojemnosc_pojazdu</th>\n",
       "      <th>st_oddanej_do_pobranej</th>\n",
       "      <th>deficyt_litrow</th>\n",
       "      <th>nr_pojazdu_PGN 415KA</th>\n",
       "      <th>nr_pojazdu_PGN 457JE</th>\n",
       "      <th>nr_pojazdu_PGN132HJ</th>\n",
       "      <th>nr_pojazdu_PGN554HE</th>\n",
       "      <th>nr_pojazdu_PGN918CC</th>\n",
       "      <th>nr_pojazdu_PGN943GW</th>\n",
       "    </tr>\n",
       "  </thead>\n",
       "  <tbody>\n",
       "    <tr>\n",
       "      <th>0</th>\n",
       "      <td>3.5</td>\n",
       "      <td>4.0</td>\n",
       "      <td>4.0</td>\n",
       "      <td>10.428971</td>\n",
       "      <td>18.0</td>\n",
       "      <td>0.383547</td>\n",
       "      <td>6.428971</td>\n",
       "      <td>1</td>\n",
       "      <td>0</td>\n",
       "      <td>0</td>\n",
       "      <td>0</td>\n",
       "      <td>0</td>\n",
       "      <td>0</td>\n",
       "    </tr>\n",
       "    <tr>\n",
       "      <th>1</th>\n",
       "      <td>5.5</td>\n",
       "      <td>15.0</td>\n",
       "      <td>14.0</td>\n",
       "      <td>20.712486</td>\n",
       "      <td>18.0</td>\n",
       "      <td>0.700061</td>\n",
       "      <td>6.212486</td>\n",
       "      <td>1</td>\n",
       "      <td>0</td>\n",
       "      <td>0</td>\n",
       "      <td>0</td>\n",
       "      <td>0</td>\n",
       "      <td>0</td>\n",
       "    </tr>\n",
       "    <tr>\n",
       "      <th>2</th>\n",
       "      <td>4.0</td>\n",
       "      <td>9.0</td>\n",
       "      <td>9.0</td>\n",
       "      <td>10.142857</td>\n",
       "      <td>18.0</td>\n",
       "      <td>0.887324</td>\n",
       "      <td>1.142857</td>\n",
       "      <td>1</td>\n",
       "      <td>0</td>\n",
       "      <td>0</td>\n",
       "      <td>0</td>\n",
       "      <td>0</td>\n",
       "      <td>0</td>\n",
       "    </tr>\n",
       "    <tr>\n",
       "      <th>3</th>\n",
       "      <td>3.0</td>\n",
       "      <td>10.0</td>\n",
       "      <td>9.0</td>\n",
       "      <td>9.078114</td>\n",
       "      <td>18.0</td>\n",
       "      <td>1.046473</td>\n",
       "      <td>-0.421886</td>\n",
       "      <td>1</td>\n",
       "      <td>0</td>\n",
       "      <td>0</td>\n",
       "      <td>0</td>\n",
       "      <td>0</td>\n",
       "      <td>0</td>\n",
       "    </tr>\n",
       "    <tr>\n",
       "      <th>4</th>\n",
       "      <td>5.0</td>\n",
       "      <td>10.0</td>\n",
       "      <td>9.0</td>\n",
       "      <td>15.371429</td>\n",
       "      <td>18.0</td>\n",
       "      <td>0.618030</td>\n",
       "      <td>5.871429</td>\n",
       "      <td>1</td>\n",
       "      <td>0</td>\n",
       "      <td>0</td>\n",
       "      <td>0</td>\n",
       "      <td>0</td>\n",
       "      <td>0</td>\n",
       "    </tr>\n",
       "  </tbody>\n",
       "</table>\n",
       "</div>"
      ],
      "text/plain": [
       "   liczba_osob  deklaracja_mieszkaniec  deklaracja_firma  pobrana_woda  \\\n",
       "0          3.5                     4.0               4.0     10.428971   \n",
       "1          5.5                    15.0              14.0     20.712486   \n",
       "2          4.0                     9.0               9.0     10.142857   \n",
       "3          3.0                    10.0               9.0      9.078114   \n",
       "4          5.0                    10.0               9.0     15.371429   \n",
       "\n",
       "   pojemnosc_pojazdu  st_oddanej_do_pobranej  deficyt_litrow  \\\n",
       "0               18.0                0.383547        6.428971   \n",
       "1               18.0                0.700061        6.212486   \n",
       "2               18.0                0.887324        1.142857   \n",
       "3               18.0                1.046473       -0.421886   \n",
       "4               18.0                0.618030        5.871429   \n",
       "\n",
       "   nr_pojazdu_PGN 415KA  nr_pojazdu_PGN 457JE   nr_pojazdu_PGN132HJ   \\\n",
       "0                     1                      0                     0   \n",
       "1                     1                      0                     0   \n",
       "2                     1                      0                     0   \n",
       "3                     1                      0                     0   \n",
       "4                     1                      0                     0   \n",
       "\n",
       "   nr_pojazdu_PGN554HE  nr_pojazdu_PGN918CC   nr_pojazdu_PGN943GW  \n",
       "0                    0                     0                    0  \n",
       "1                    0                     0                    0  \n",
       "2                    0                     0                    0  \n",
       "3                    0                     0                    0  \n",
       "4                    0                     0                    0  "
      ]
     },
     "execution_count": 65,
     "metadata": {},
     "output_type": "execute_result"
    }
   ],
   "source": [
    "df_bez_zbiornikow.head()"
   ]
  },
  {
   "cell_type": "code",
   "execution_count": 66,
   "id": "64fca075",
   "metadata": {},
   "outputs": [
    {
     "data": {
      "image/png": "[encoded data removed]",
      "text/plain": [
       "<Figure size 1152x432 with 2 Axes>"
      ]
     },
     "metadata": {
      "needs_background": "light"
     },
     "output_type": "display_data"
    }
   ],
   "source": [
    "plt.figure(figsize=(16, 6))\n",
    "\n",
    "heatmap = sns.heatmap(df_bez_zbiornikow.corr(), vmin=-1, vmax=1, annot=True)\n",
    "\n",
    "heatmap.set_title('Correlation Heatmap', fontdict={'fontsize':12}, pad=12);"
   ]
  },
  {
   "cell_type": "code",
   "execution_count": 67,
   "id": "520468c7",
   "metadata": {},
   "outputs": [
    {
     "data": {
      "image/png": "[encoded data removed]",
      "text/plain": [
       "<Figure size 432x288 with 1 Axes>"
      ]
     },
     "metadata": {
      "needs_background": "light"
     },
     "output_type": "display_data"
    }
   ],
   "source": [
    "plt.scatter(df_bez_zbiornikow['deklaracja_mieszkaniec'], df_bez_zbiornikow['st_oddanej_do_pobranej'])\n",
    "plt.xlabel(\"Deklaracja mieszkańca\")\n",
    "plt.ylabel(\"Stosunek oddanej do pobranej\")\n",
    "plt.show()"
   ]
  },
  {
   "cell_type": "code",
   "execution_count": 68,
   "id": "6f6b9fcc",
   "metadata": {},
   "outputs": [
    {
     "data": {
      "image/png": "[encoded data removed]",
      "text/plain": [
       "<Figure size 432x288 with 1 Axes>"
      ]
     },
     "metadata": {
      "needs_background": "light"
     },
     "output_type": "display_data"
    }
   ],
   "source": [
    "plt.scatter(df_bez_zbiornikow['deklaracja_firma'], df_bez_zbiornikow['st_oddanej_do_pobranej'])\n",
    "plt.xlabel(\"Deklaracja firmy\")\n",
    "plt.ylabel(\"Stosunek oddanej do pobranej\")\n",
    "plt.show()"
   ]
  },
  {
   "cell_type": "code",
   "execution_count": 69,
   "id": "1434d1d4",
   "metadata": {},
   "outputs": [
    {
     "data": {
      "image/png": "[encoded data removed]",
      "text/plain": [
       "<Figure size 432x288 with 1 Axes>"
      ]
     },
     "metadata": {
      "needs_background": "light"
     },
     "output_type": "display_data"
    }
   ],
   "source": [
    "plt.scatter(df_bez_zbiornikow['liczba_osob'], df_bez_zbiornikow['pobrana_woda'])\n",
    "plt.xlabel(\"liczba_osob\")\n",
    "plt.ylabel(\"pobrana_woda\")\n",
    "plt.show()"
   ]
  },
  {
   "cell_type": "code",
   "execution_count": 70,
   "id": "e35317a3",
   "metadata": {},
   "outputs": [],
   "source": [
    "df_bez_zbiornikow = df_bez_zbiornikow.sort_values(by=\"deficyt_litrow\", ascending = False)"
   ]
  },
  {
   "cell_type": "code",
   "execution_count": 71,
   "id": "7cdae713",
   "metadata": {},
   "outputs": [
    {
     "data": {
      "image/png": "[encoded data removed]",
      "text/plain": [
       "<Figure size 432x288 with 1 Axes>"
      ]
     },
     "metadata": {
      "needs_background": "light"
     },
     "output_type": "display_data"
    }
   ],
   "source": [
    "plt.hist(df_bez_zbiornikow[\"deficyt_litrow\"], 15, density=True)\n",
    "plt.xlabel('deficyt_litrow')\n",
    "plt.show()"
   ]
  },
  {
   "cell_type": "markdown",
   "id": "f9109e3b",
   "metadata": {},
   "source": [
    "# Analiza ze zbiornikami"
   ]
  },
  {
   "cell_type": "code",
   "execution_count": 72,
   "id": "0241b080",
   "metadata": {},
   "outputs": [
    {
     "data": {
      "text/html": [
       "<div>\n",
       "<style scoped>\n",
       "    .dataframe tbody tr th:only-of-type {\n",
       "        vertical-align: middle;\n",
       "    }\n",
       "\n",
       "    .dataframe tbody tr th {\n",
       "        vertical-align: top;\n",
       "    }\n",
       "\n",
       "    .dataframe thead th {\n",
       "        text-align: right;\n",
       "    }\n",
       "</style>\n",
       "<table border=\"1\" class=\"dataframe\">\n",
       "  <thead>\n",
       "    <tr style=\"text-align: right;\">\n",
       "      <th></th>\n",
       "      <th>nr_pojazdu</th>\n",
       "      <th>nr_zbiornika</th>\n",
       "      <th>liczba_osob</th>\n",
       "      <th>deklaracja_mieszkaniec</th>\n",
       "      <th>deklaracja_firma</th>\n",
       "      <th>pobrana_woda</th>\n",
       "      <th>pojemnosc_pojazdu</th>\n",
       "    </tr>\n",
       "  </thead>\n",
       "  <tbody>\n",
       "    <tr>\n",
       "      <th>0</th>\n",
       "      <td>PGN 415KA</td>\n",
       "      <td>Z00045</td>\n",
       "      <td>3.5</td>\n",
       "      <td>4.0</td>\n",
       "      <td>4.0</td>\n",
       "      <td>10.428971</td>\n",
       "      <td>18.0</td>\n",
       "    </tr>\n",
       "    <tr>\n",
       "      <th>1</th>\n",
       "      <td>PGN 415KA</td>\n",
       "      <td>Z00089</td>\n",
       "      <td>5.5</td>\n",
       "      <td>15.0</td>\n",
       "      <td>14.0</td>\n",
       "      <td>20.712486</td>\n",
       "      <td>18.0</td>\n",
       "    </tr>\n",
       "    <tr>\n",
       "      <th>2</th>\n",
       "      <td>PGN 415KA</td>\n",
       "      <td>Z00165</td>\n",
       "      <td>4.0</td>\n",
       "      <td>9.0</td>\n",
       "      <td>9.0</td>\n",
       "      <td>10.142857</td>\n",
       "      <td>18.0</td>\n",
       "    </tr>\n",
       "    <tr>\n",
       "      <th>3</th>\n",
       "      <td>PGN 415KA</td>\n",
       "      <td>Z00367</td>\n",
       "      <td>3.0</td>\n",
       "      <td>10.0</td>\n",
       "      <td>9.0</td>\n",
       "      <td>9.078114</td>\n",
       "      <td>18.0</td>\n",
       "    </tr>\n",
       "    <tr>\n",
       "      <th>4</th>\n",
       "      <td>PGN 415KA</td>\n",
       "      <td>Z00465</td>\n",
       "      <td>5.0</td>\n",
       "      <td>10.0</td>\n",
       "      <td>9.0</td>\n",
       "      <td>15.371429</td>\n",
       "      <td>18.0</td>\n",
       "    </tr>\n",
       "  </tbody>\n",
       "</table>\n",
       "</div>"
      ],
      "text/plain": [
       "  nr_pojazdu nr_zbiornika  liczba_osob  deklaracja_mieszkaniec  \\\n",
       "0  PGN 415KA       Z00045          3.5                     4.0   \n",
       "1  PGN 415KA       Z00089          5.5                    15.0   \n",
       "2  PGN 415KA       Z00165          4.0                     9.0   \n",
       "3  PGN 415KA       Z00367          3.0                    10.0   \n",
       "4  PGN 415KA       Z00465          5.0                    10.0   \n",
       "\n",
       "   deklaracja_firma  pobrana_woda  pojemnosc_pojazdu  \n",
       "0               4.0     10.428971               18.0  \n",
       "1              14.0     20.712486               18.0  \n",
       "2               9.0     10.142857               18.0  \n",
       "3               9.0      9.078114               18.0  \n",
       "4               9.0     15.371429               18.0  "
      ]
     },
     "execution_count": 72,
     "metadata": {},
     "output_type": "execute_result"
    }
   ],
   "source": [
    "df.head()"
   ]
  },
  {
   "cell_type": "code",
   "execution_count": 73,
   "id": "8c93f2fb",
   "metadata": {},
   "outputs": [],
   "source": [
    "df_new = df.copy()\n",
    "\n",
    "df_new['st_oddanej_do_pobranej'] = (df['deklaracja_mieszkaniec'] + \n",
    "                                         df['deklaracja_firma'])/2 / \\\n",
    "                                         df['pobrana_woda']"
   ]
  },
  {
   "cell_type": "code",
   "execution_count": 74,
   "id": "18ee9c00",
   "metadata": {},
   "outputs": [
    {
     "data": {
      "text/html": [
       "<div>\n",
       "<style scoped>\n",
       "    .dataframe tbody tr th:only-of-type {\n",
       "        vertical-align: middle;\n",
       "    }\n",
       "\n",
       "    .dataframe tbody tr th {\n",
       "        vertical-align: top;\n",
       "    }\n",
       "\n",
       "    .dataframe thead th {\n",
       "        text-align: right;\n",
       "    }\n",
       "</style>\n",
       "<table border=\"1\" class=\"dataframe\">\n",
       "  <thead>\n",
       "    <tr style=\"text-align: right;\">\n",
       "      <th></th>\n",
       "      <th>nr_pojazdu</th>\n",
       "      <th>nr_zbiornika</th>\n",
       "      <th>liczba_osob</th>\n",
       "      <th>deklaracja_mieszkaniec</th>\n",
       "      <th>deklaracja_firma</th>\n",
       "      <th>pobrana_woda</th>\n",
       "      <th>pojemnosc_pojazdu</th>\n",
       "      <th>st_oddanej_do_pobranej</th>\n",
       "    </tr>\n",
       "  </thead>\n",
       "  <tbody>\n",
       "    <tr>\n",
       "      <th>0</th>\n",
       "      <td>PGN 415KA</td>\n",
       "      <td>Z00045</td>\n",
       "      <td>3.5</td>\n",
       "      <td>4.0</td>\n",
       "      <td>4.0</td>\n",
       "      <td>10.428971</td>\n",
       "      <td>18.0</td>\n",
       "      <td>0.383547</td>\n",
       "    </tr>\n",
       "    <tr>\n",
       "      <th>1</th>\n",
       "      <td>PGN 415KA</td>\n",
       "      <td>Z00089</td>\n",
       "      <td>5.5</td>\n",
       "      <td>15.0</td>\n",
       "      <td>14.0</td>\n",
       "      <td>20.712486</td>\n",
       "      <td>18.0</td>\n",
       "      <td>0.700061</td>\n",
       "    </tr>\n",
       "    <tr>\n",
       "      <th>2</th>\n",
       "      <td>PGN 415KA</td>\n",
       "      <td>Z00165</td>\n",
       "      <td>4.0</td>\n",
       "      <td>9.0</td>\n",
       "      <td>9.0</td>\n",
       "      <td>10.142857</td>\n",
       "      <td>18.0</td>\n",
       "      <td>0.887324</td>\n",
       "    </tr>\n",
       "    <tr>\n",
       "      <th>3</th>\n",
       "      <td>PGN 415KA</td>\n",
       "      <td>Z00367</td>\n",
       "      <td>3.0</td>\n",
       "      <td>10.0</td>\n",
       "      <td>9.0</td>\n",
       "      <td>9.078114</td>\n",
       "      <td>18.0</td>\n",
       "      <td>1.046473</td>\n",
       "    </tr>\n",
       "    <tr>\n",
       "      <th>4</th>\n",
       "      <td>PGN 415KA</td>\n",
       "      <td>Z00465</td>\n",
       "      <td>5.0</td>\n",
       "      <td>10.0</td>\n",
       "      <td>9.0</td>\n",
       "      <td>15.371429</td>\n",
       "      <td>18.0</td>\n",
       "      <td>0.618030</td>\n",
       "    </tr>\n",
       "  </tbody>\n",
       "</table>\n",
       "</div>"
      ],
      "text/plain": [
       "  nr_pojazdu nr_zbiornika  liczba_osob  deklaracja_mieszkaniec  \\\n",
       "0  PGN 415KA       Z00045          3.5                     4.0   \n",
       "1  PGN 415KA       Z00089          5.5                    15.0   \n",
       "2  PGN 415KA       Z00165          4.0                     9.0   \n",
       "3  PGN 415KA       Z00367          3.0                    10.0   \n",
       "4  PGN 415KA       Z00465          5.0                    10.0   \n",
       "\n",
       "   deklaracja_firma  pobrana_woda  pojemnosc_pojazdu  st_oddanej_do_pobranej  \n",
       "0               4.0     10.428971               18.0                0.383547  \n",
       "1              14.0     20.712486               18.0                0.700061  \n",
       "2               9.0     10.142857               18.0                0.887324  \n",
       "3               9.0      9.078114               18.0                1.046473  \n",
       "4               9.0     15.371429               18.0                0.618030  "
      ]
     },
     "execution_count": 74,
     "metadata": {},
     "output_type": "execute_result"
    }
   ],
   "source": [
    "df_new.head()"
   ]
  },
  {
   "cell_type": "code",
   "execution_count": 75,
   "id": "82756ad8",
   "metadata": {},
   "outputs": [
    {
     "data": {
      "image/png": "[encoded data removed]",
      "text/plain": [
       "<Figure size 432x288 with 1 Axes>"
      ]
     },
     "metadata": {
      "needs_background": "light"
     },
     "output_type": "display_data"
    }
   ],
   "source": [
    "plt.scatter(df_new['nr_pojazdu'], df_new['st_oddanej_do_pobranej'])\n",
    "#srednie\n",
    "srednie = df_new.groupby(\"nr_pojazdu\").mean()['st_oddanej_do_pobranej'].to_frame().reset_index()\n",
    "plt.scatter(srednie['nr_pojazdu'], srednie['st_oddanej_do_pobranej'])\n",
    "\n",
    "plt.xlabel(\"nr_pojazdu\")\n",
    "plt.ylabel(\"st_oddanej_do_pobranej\")\n",
    "plt.show()"
   ]
  },
  {
   "cell_type": "code",
   "execution_count": 76,
   "id": "d3e1502c",
   "metadata": {},
   "outputs": [
    {
     "data": {
      "text/html": [
       "<div>\n",
       "<style scoped>\n",
       "    .dataframe tbody tr th:only-of-type {\n",
       "        vertical-align: middle;\n",
       "    }\n",
       "\n",
       "    .dataframe tbody tr th {\n",
       "        vertical-align: top;\n",
       "    }\n",
       "\n",
       "    .dataframe thead th {\n",
       "        text-align: right;\n",
       "    }\n",
       "</style>\n",
       "<table border=\"1\" class=\"dataframe\">\n",
       "  <thead>\n",
       "    <tr style=\"text-align: right;\">\n",
       "      <th></th>\n",
       "      <th>nr_pojazdu</th>\n",
       "      <th>st_oddanej_do_pobranej</th>\n",
       "    </tr>\n",
       "  </thead>\n",
       "  <tbody>\n",
       "    <tr>\n",
       "      <th>0</th>\n",
       "      <td>PGN 415KA</td>\n",
       "      <td>0.768077</td>\n",
       "    </tr>\n",
       "    <tr>\n",
       "      <th>1</th>\n",
       "      <td>PGN 457JE</td>\n",
       "      <td>0.868382</td>\n",
       "    </tr>\n",
       "    <tr>\n",
       "      <th>2</th>\n",
       "      <td>PGN132HJ</td>\n",
       "      <td>0.788896</td>\n",
       "    </tr>\n",
       "    <tr>\n",
       "      <th>3</th>\n",
       "      <td>PGN554HE</td>\n",
       "      <td>0.795454</td>\n",
       "    </tr>\n",
       "    <tr>\n",
       "      <th>4</th>\n",
       "      <td>PGN918CC</td>\n",
       "      <td>0.827286</td>\n",
       "    </tr>\n",
       "    <tr>\n",
       "      <th>5</th>\n",
       "      <td>PGN943GW</td>\n",
       "      <td>0.800908</td>\n",
       "    </tr>\n",
       "  </tbody>\n",
       "</table>\n",
       "</div>"
      ],
      "text/plain": [
       "   nr_pojazdu  st_oddanej_do_pobranej\n",
       "0   PGN 415KA                0.768077\n",
       "1  PGN 457JE                 0.868382\n",
       "2   PGN132HJ                 0.788896\n",
       "3    PGN554HE                0.795454\n",
       "4   PGN918CC                 0.827286\n",
       "5    PGN943GW                0.800908"
      ]
     },
     "execution_count": 76,
     "metadata": {},
     "output_type": "execute_result"
    }
   ],
   "source": [
    "srednie"
   ]
  },
  {
   "cell_type": "code",
   "execution_count": null,
   "id": "2728449d",
   "metadata": {},
   "outputs": [],
   "source": []
  },
  {
   "cell_type": "code",
   "execution_count": null,
   "id": "5ba4b2ad",
   "metadata": {},
   "outputs": [],
   "source": []
  },
  {
   "cell_type": "code",
   "execution_count": null,
   "id": "f0d91671",
   "metadata": {},
   "outputs": [],
   "source": []
  }
 ],
 "metadata": {
  "kernelspec": {
   "display_name": "Python 3",
   "language": "python",
   "name": "python3"
  },
  "language_info": {
   "codemirror_mode": {
    "name": "ipython",
    "version": 3
   },
   "file_extension": ".py",
   "mimetype": "text/x-python",
   "name": "python",
   "nbconvert_exporter": "python",
   "pygments_lexer": "ipython3",
   "version": "3.8.10"
  }
 },
 "nbformat": 4,
 "nbformat_minor": 5
}
