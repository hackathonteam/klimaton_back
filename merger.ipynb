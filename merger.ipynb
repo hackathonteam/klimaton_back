{
 "cells": [
  {
   "cell_type": "markdown",
   "id": "522300d0",
   "metadata": {},
   "source": [
    "# Main EDA notebook"
   ]
  },
  {
   "cell_type": "code",
   "execution_count": 6,
   "id": "c5a82a4d",
   "metadata": {},
   "outputs": [],
   "source": [
    "import pandas as pd\n",
    "import numpy as np\n",
    "import matplotlib.pyplot as plt\n",
    "\n",
    "pd.options.mode.chained_assignment = None  "
   ]
  },
  {
   "cell_type": "code",
   "execution_count": null,
   "id": "f923399f",
   "metadata": {},
   "outputs": [],
   "source": [
    "# Notes\n",
    "# tables dealt with: 2, 3, 5\n",
    "# possible merges with 6 and 7 by nr zbiornika\n",
    "# possible merge with table 1 by nr_licznika\n",
    "# then possible merge with table 4 by numer pojazdu"
   ]
  },
  {
   "cell_type": "code",
   "execution_count": 66,
   "id": "f236068f",
   "metadata": {},
   "outputs": [],
   "source": [
    "zbiorniki02_raw = pd.read_excel(\"data/02zbiorniki.xlsx\")\n",
    "liczniki03_raw = pd.read_excel(\"data/03liczniki.xlsx\")\n",
    "osoby05_raw = pd.read_excel(\"data/05osoby.xlsx\")"
   ]
  },
  {
   "cell_type": "code",
   "execution_count": 76,
   "id": "15424e5a",
   "metadata": {},
   "outputs": [],
   "source": [
    "# zmiana nazw kolumn\n",
    "zbiorniki02 = zbiorniki02_raw.drop(['Lp.'], axis = 1)\n",
    "c = zbiorniki02.columns\n",
    "zbiorniki02 = zbiorniki02.rename(columns = {c[0]: 'nr_zbiornika',\n",
    "                              c[1]: 'osoba',\n",
    "                              c[2]: 'adres_licznika',\n",
    "                              c[3]: 'adres_zamieszkania'})"
   ]
  },
  {
   "cell_type": "code",
   "execution_count": 77,
   "id": "e7f9bee1",
   "metadata": {},
   "outputs": [],
   "source": [
    "# zmiana nazw kolumn\n",
    "liczniki03 = liczniki03_raw.drop(['Lp.'], axis = 1)\n",
    "c = liczniki03.columns\n",
    "liczniki03 = liczniki03.rename(columns = {c[0]: 'nr_licznika',\n",
    "                              c[1]: 'osoba',\n",
    "                              c[2]: 'adres_licznika',\n",
    "                              c[3]: 'adres_zamieszkania'})"
   ]
  },
  {
   "cell_type": "code",
   "execution_count": 78,
   "id": "209a843c",
   "metadata": {},
   "outputs": [],
   "source": [
    "# zmiana nazw kolumn\n",
    "osoby05 = osoby05_raw.drop(['Lp.'], axis = 1)\n",
    "c = osoby05.columns\n",
    "osoby05 = osoby05.rename(columns = {c[0]: 'nr_zbiornika',\n",
    "                              c[1]: 'adres_licznika',\n",
    "                              c[2]: 'liczba_osob_zameldowanych',\n",
    "                              c[3]: 'liczba_osob_smieci'})"
   ]
  },
  {
   "cell_type": "code",
   "execution_count": 79,
   "id": "2401b7a5",
   "metadata": {},
   "outputs": [],
   "source": [
    "# łączenie tabel 2 i 3\n",
    "liczniki_zbiorniki = zbiorniki02.set_index(['adres_licznika', 'osoba', 'adres_zamieszkania'])\\\n",
    "                    .join(liczniki03.set_index(['adres_licznika', 'osoba', 'adres_zamieszkania']))\\\n",
    "                    .reset_index()\n",
    "\n",
    "# drop kolumn adres zamieszkania skoro wszedzie jest taki sam jak adres licznika\n",
    "liczniki_zbiorniki = liczniki_zbiorniki.drop('adres_zamieszkania', axis = 1)"
   ]
  },
  {
   "cell_type": "code",
   "execution_count": 81,
   "id": "0d634a74",
   "metadata": {},
   "outputs": [],
   "source": [
    "# wyliczenie liczby osób jako średniej z zameldowanych i bazy śmieciowej\n",
    "# i wyrzucenie tych kolumn\n",
    "osoby05['liczba_osob'] = (osoby05['liczba_osob_zameldowanych'] + osoby05['liczba_osob_smieci'])/2\n",
    "osoby05 = osoby05.drop(['liczba_osob_zameldowanych', 'liczba_osob_smieci'], axis = 1)"
   ]
  },
  {
   "cell_type": "code",
   "execution_count": 84,
   "id": "27c3237f",
   "metadata": {},
   "outputs": [],
   "source": [
    "# łączenie tabel 2 i 3 i osob przy danym adresie\n",
    "liczniki_z_osobami = liczniki_zbiorniki.set_index(['adres_licznika', 'nr_zbiornika'])\\\n",
    "                    .join(osoby05.set_index(['adres_licznika', 'nr_zbiornika']))\\\n",
    "                    .reset_index()"
   ]
  },
  {
   "cell_type": "code",
   "execution_count": 85,
   "id": "69afc36d",
   "metadata": {},
   "outputs": [
    {
     "data": {
      "text/html": [
       "<div>\n",
       "<style scoped>\n",
       "    .dataframe tbody tr th:only-of-type {\n",
       "        vertical-align: middle;\n",
       "    }\n",
       "\n",
       "    .dataframe tbody tr th {\n",
       "        vertical-align: top;\n",
       "    }\n",
       "\n",
       "    .dataframe thead th {\n",
       "        text-align: right;\n",
       "    }\n",
       "</style>\n",
       "<table border=\"1\" class=\"dataframe\">\n",
       "  <thead>\n",
       "    <tr style=\"text-align: right;\">\n",
       "      <th></th>\n",
       "      <th>adres_licznika</th>\n",
       "      <th>nr_zbiornika</th>\n",
       "      <th>osoba</th>\n",
       "      <th>nr_licznika</th>\n",
       "      <th>liczba_osob</th>\n",
       "    </tr>\n",
       "  </thead>\n",
       "  <tbody>\n",
       "    <tr>\n",
       "      <th>0</th>\n",
       "      <td>Roosevelta 164</td>\n",
       "      <td>Z00777</td>\n",
       "      <td>Katarzyna Gątarska</td>\n",
       "      <td>H21KA008618</td>\n",
       "      <td>4.0</td>\n",
       "    </tr>\n",
       "    <tr>\n",
       "      <th>1</th>\n",
       "      <td>Paczkowskiego 6</td>\n",
       "      <td>Z00025</td>\n",
       "      <td>Sylwia Gadzińska</td>\n",
       "      <td>C18UA124562</td>\n",
       "      <td>2.5</td>\n",
       "    </tr>\n",
       "    <tr>\n",
       "      <th>2</th>\n",
       "      <td>Kłeckoska 84</td>\n",
       "      <td>Z00666</td>\n",
       "      <td>Sylwia Popłek</td>\n",
       "      <td>H21KA003461</td>\n",
       "      <td>3.0</td>\n",
       "    </tr>\n",
       "    <tr>\n",
       "      <th>3</th>\n",
       "      <td>Zamiejska 13</td>\n",
       "      <td>Z00523</td>\n",
       "      <td>Zbigniew Kopczyński</td>\n",
       "      <td>H21KA012115</td>\n",
       "      <td>10.0</td>\n",
       "    </tr>\n",
       "    <tr>\n",
       "      <th>4</th>\n",
       "      <td>Kłeckoska 96 A</td>\n",
       "      <td>Z00021</td>\n",
       "      <td>Monika Jeżewska-Andraszyk</td>\n",
       "      <td>C19UA113683</td>\n",
       "      <td>2.0</td>\n",
       "    </tr>\n",
       "    <tr>\n",
       "      <th>...</th>\n",
       "      <td>...</td>\n",
       "      <td>...</td>\n",
       "      <td>...</td>\n",
       "      <td>...</td>\n",
       "      <td>...</td>\n",
       "    </tr>\n",
       "    <tr>\n",
       "      <th>140</th>\n",
       "      <td>Wierzbiczany 71</td>\n",
       "      <td>Z00536</td>\n",
       "      <td>Zosia Janas</td>\n",
       "      <td>C17UA110048</td>\n",
       "      <td>3.0</td>\n",
       "    </tr>\n",
       "    <tr>\n",
       "      <th>141</th>\n",
       "      <td>Akacjowa 3</td>\n",
       "      <td>Z00714</td>\n",
       "      <td>Mikołaj Serwatka</td>\n",
       "      <td>H21KA009918</td>\n",
       "      <td>2.0</td>\n",
       "    </tr>\n",
       "    <tr>\n",
       "      <th>142</th>\n",
       "      <td>Myśliwiecka 25</td>\n",
       "      <td>Z00118</td>\n",
       "      <td>Wacław Jeż</td>\n",
       "      <td>C18UA00362</td>\n",
       "      <td>6.0</td>\n",
       "    </tr>\n",
       "    <tr>\n",
       "      <th>143</th>\n",
       "      <td>Poznańśka 245</td>\n",
       "      <td>Z00954</td>\n",
       "      <td>Henryk Wąs</td>\n",
       "      <td>H21KA006667</td>\n",
       "      <td>4.5</td>\n",
       "    </tr>\n",
       "    <tr>\n",
       "      <th>144</th>\n",
       "      <td>Kiszkowska 4</td>\n",
       "      <td>Z00432</td>\n",
       "      <td>Luiza Kręc</td>\n",
       "      <td>H21KA014422</td>\n",
       "      <td>2.5</td>\n",
       "    </tr>\n",
       "  </tbody>\n",
       "</table>\n",
       "<p>145 rows × 5 columns</p>\n",
       "</div>"
      ],
      "text/plain": [
       "      adres_licznika nr_zbiornika                      osoba  nr_licznika  \\\n",
       "0     Roosevelta 164       Z00777         Katarzyna Gątarska  H21KA008618   \n",
       "1    Paczkowskiego 6       Z00025           Sylwia Gadzińska  C18UA124562   \n",
       "2       Kłeckoska 84       Z00666              Sylwia Popłek  H21KA003461   \n",
       "3       Zamiejska 13       Z00523        Zbigniew Kopczyński  H21KA012115   \n",
       "4     Kłeckoska 96 A       Z00021  Monika Jeżewska-Andraszyk  C19UA113683   \n",
       "..               ...          ...                        ...          ...   \n",
       "140  Wierzbiczany 71       Z00536                Zosia Janas  C17UA110048   \n",
       "141       Akacjowa 3       Z00714           Mikołaj Serwatka  H21KA009918   \n",
       "142   Myśliwiecka 25       Z00118                 Wacław Jeż   C18UA00362   \n",
       "143    Poznańśka 245       Z00954                 Henryk Wąs  H21KA006667   \n",
       "144     Kiszkowska 4       Z00432                 Luiza Kręc  H21KA014422   \n",
       "\n",
       "     liczba_osob  \n",
       "0            4.0  \n",
       "1            2.5  \n",
       "2            3.0  \n",
       "3           10.0  \n",
       "4            2.0  \n",
       "..           ...  \n",
       "140          3.0  \n",
       "141          2.0  \n",
       "142          6.0  \n",
       "143          4.5  \n",
       "144          2.5  \n",
       "\n",
       "[145 rows x 5 columns]"
      ]
     },
     "execution_count": 85,
     "metadata": {},
     "output_type": "execute_result"
    }
   ],
   "source": [
    "liczniki_z_osobami"
   ]
  },
  {
   "cell_type": "code",
   "execution_count": null,
   "id": "17e96543",
   "metadata": {},
   "outputs": [],
   "source": []
  },
  {
   "cell_type": "code",
   "execution_count": null,
   "id": "729becad",
   "metadata": {},
   "outputs": [],
   "source": []
  }
 ],
 "metadata": {
  "kernelspec": {
   "display_name": "Python 3",
   "language": "python",
   "name": "python3"
  },
  "language_info": {
   "codemirror_mode": {
    "name": "ipython",
    "version": 3
   },
   "file_extension": ".py",
   "mimetype": "text/x-python",
   "name": "python",
   "nbconvert_exporter": "python",
   "pygments_lexer": "ipython3",
   "version": "3.8.10"
  }
 },
 "nbformat": 4,
 "nbformat_minor": 5
}
